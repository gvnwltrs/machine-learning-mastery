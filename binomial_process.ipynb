{
 "cells": [
  {
   "cell_type": "markdown",
   "metadata": {},
   "source": [
    "# Binomial Process"
   ]
  },
  {
   "cell_type": "code",
   "execution_count": 22,
   "metadata": {},
   "outputs": [
    {
     "name": "stdout",
     "output_type": "stream",
     "text": [
      "Total Success: 27\n"
     ]
    }
   ],
   "source": [
    "from numpy.random import binomial\n",
    "\n",
    "p = 0.3\n",
    "k = 100\n",
    "\n",
    "success = binomial(k, p)\n",
    "print('Total Success: %d' % success)"
   ]
  },
  {
   "cell_type": "code",
   "execution_count": 23,
   "metadata": {},
   "outputs": [
    {
     "name": "stdout",
     "output_type": "stream",
     "text": [
      "Mean=30.000, Variance=21.000\n"
     ]
    }
   ],
   "source": [
    "from scipy.stats import binom\n",
    "\n",
    "p = 0.3 \n",
    "k = 100 \n",
    "\n",
    "mean, var, _, _ = binom.stats(k, p, moments='mvsk')\n",
    "print('Mean=%.3f, Variance=%.3f' % (mean, var))"
   ]
  },
  {
   "cell_type": "code",
   "execution_count": 24,
   "metadata": {},
   "outputs": [
    {
     "name": "stdout",
     "output_type": "stream",
     "text": [
      "P of 10 success: 0.000%\n",
      "P of 20 success: 0.758%\n",
      "P of 30 success: 8.678%\n",
      "P of 40 success: 0.849%\n",
      "P of 50 success: 0.001%\n",
      "P of 60 success: 0.000%\n",
      "P of 70 success: 0.000%\n",
      "P of 80 success: 0.000%\n",
      "P of 90 success: 0.000%\n"
     ]
    }
   ],
   "source": [
    "from scipy.stats import binom \n",
    "\n",
    "p = 0.3\n",
    "k = 100\n",
    "dist = binom(k, p)\n",
    "\n",
    "for n in range(10, 100, 10):\n",
    "    print('P of %d success: %.3f%%' % (n, dist.pmf(n)*100))"
   ]
  },
  {
   "cell_type": "code",
   "execution_count": null,
   "metadata": {},
   "outputs": [],
   "source": []
  }
 ],
 "metadata": {
  "kernelspec": {
   "display_name": "Python 3",
   "language": "python",
   "name": "python3"
  },
  "language_info": {
   "codemirror_mode": {
    "name": "ipython",
    "version": 3
   },
   "file_extension": ".py",
   "mimetype": "text/x-python",
   "name": "python",
   "nbconvert_exporter": "python",
   "pygments_lexer": "ipython3",
   "version": "3.10.6"
  },
  "orig_nbformat": 4
 },
 "nbformat": 4,
 "nbformat_minor": 2
}
