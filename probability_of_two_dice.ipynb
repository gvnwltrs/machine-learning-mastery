{
 "cells": [
  {
   "cell_type": "markdown",
   "metadata": {},
   "source": [
    "# Probability of Rolling 2 Dice"
   ]
  },
  {
   "cell_type": "markdown",
   "metadata": {},
   "source": [
    "## Rolling a \"1\" on Both Dice"
   ]
  },
  {
   "cell_type": "code",
   "execution_count": 5,
   "metadata": {},
   "outputs": [
    {
     "name": "stdout",
     "output_type": "stream",
     "text": [
      "0.027788889999999997\n"
     ]
    }
   ],
   "source": [
    "# 6 sided Dice\n",
    "dice_1 = {1: 0.1667, 2: 0.1667, 3: 0.1667, 4: 0.1667, 5: 0.1667, 6: 0.1667}\n",
    "dice_2 = {1: 0.1667, 2: 0.1667, 3: 0.1667, 4: 0.1667, 5: 0.1667, 6: 0.1667}\n",
    "\n",
    "prob_of_1_both_dice = dice_1[1] * dice_2[2]\n",
    "print(prob_of_1_both_dice)"
   ]
  },
  {
   "cell_type": "markdown",
   "metadata": {},
   "source": [
    "## Rolling an Even Number on Single Dice"
   ]
  },
  {
   "cell_type": "code",
   "execution_count": 6,
   "metadata": {},
   "outputs": [
    {
     "name": "stdout",
     "output_type": "stream",
     "text": [
      "0.5001\n"
     ]
    }
   ],
   "source": [
    "prob_of_even_number_single_dice = dice_1[2] + dice_1[4] + dice_1[6]\n",
    "print(prob_of_even_number_single_dice)"
   ]
  },
  {
   "cell_type": "markdown",
   "metadata": {},
   "source": [
    "## Probability of Rolling Even Number on Both Dice"
   ]
  },
  {
   "cell_type": "code",
   "execution_count": 7,
   "metadata": {},
   "outputs": [
    {
     "name": "stdout",
     "output_type": "stream",
     "text": [
      "0.25010001\n"
     ]
    }
   ],
   "source": [
    "prob_of_even_number_both_dice = prob_of_even_number_single_dice * prob_of_even_number_single_dice\n",
    "\n",
    "print(prob_of_even_number_both_dice)"
   ]
  },
  {
   "cell_type": "markdown",
   "metadata": {},
   "source": [
    "## Probability of Rolling 2 on One Dice and Odd on the Other"
   ]
  },
  {
   "cell_type": "code",
   "execution_count": 9,
   "metadata": {},
   "outputs": [
    {
     "name": "stdout",
     "output_type": "stream",
     "text": [
      "0.08336666999999999\n"
     ]
    }
   ],
   "source": [
    "prob_of_2_and_odd = (dice_1[2]*dice_2[1]) + (dice_1[2]*dice_2[3]) + (dice_1[2]*dice_2[5])\n",
    "print(prob_of_2_and_odd)"
   ]
  },
  {
   "cell_type": "markdown",
   "metadata": {},
   "source": [
    "## Joint Probability "
   ]
  },
  {
   "cell_type": "code",
   "execution_count": 2,
   "metadata": {},
   "outputs": [
    {
     "name": "stdout",
     "output_type": "stream",
     "text": [
      "0.027777777777777776\n"
     ]
    }
   ],
   "source": [
    "# rolling a 1 and 3 on 2 dice\n",
    "p = (1/6) * (1/6)\n",
    "print(p)"
   ]
  },
  {
   "cell_type": "markdown",
   "metadata": {},
   "source": [
    "## Marginall Probability "
   ]
  },
  {
   "cell_type": "code",
   "execution_count": 3,
   "metadata": {},
   "outputs": [
    {
     "name": "stdout",
     "output_type": "stream",
     "text": [
      "0.162\n"
     ]
    }
   ],
   "source": [
    "# rolling a 1 from 1 dice out of two dice\n",
    "p = (0.027) + (0.027) + (0.027) + (0.027) + (0.027) + (0.027) \n",
    "print(p)"
   ]
  },
  {
   "cell_type": "markdown",
   "metadata": {},
   "source": [
    "## Conditional Probability"
   ]
  }
 ],
 "metadata": {
  "kernelspec": {
   "display_name": "Python 3",
   "language": "python",
   "name": "python3"
  },
  "language_info": {
   "codemirror_mode": {
    "name": "ipython",
    "version": 3
   },
   "file_extension": ".py",
   "mimetype": "text/x-python",
   "name": "python",
   "nbconvert_exporter": "python",
   "pygments_lexer": "ipython3",
   "version": "3.10.6"
  },
  "orig_nbformat": 4
 },
 "nbformat": 4,
 "nbformat_minor": 2
}
