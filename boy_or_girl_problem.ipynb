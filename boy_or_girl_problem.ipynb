{
 "cells": [
  {
   "cell_type": "markdown",
   "metadata": {},
   "source": [
    "# Boy or Girl problem\n",
    "\n",
    "### Case 1: A woman has two children and the oldest is a boy. What is the probability of this woman having two sons?"
   ]
  },
  {
   "cell_type": "code",
   "execution_count": null,
   "metadata": {},
   "outputs": [],
   "source": [
    "girl_boy = .5\n",
    "boy_boy = .5\n",
    "girl_girl = 0\n",
    "boy_girl = 0 \n",
    "\n",
    "outcome = 0.5 # since there is only 1 outcome out of 2 possible "
   ]
  },
  {
   "cell_type": "markdown",
   "metadata": {},
   "source": []
  }
 ],
 "metadata": {
  "kernelspec": {
   "display_name": "Python 3",
   "language": "python",
   "name": "python3"
  },
  "language_info": {
   "name": "python",
   "version": "3.10.6"
  },
  "orig_nbformat": 4
 },
 "nbformat": 4,
 "nbformat_minor": 2
}
