{
 "cells": [
  {
   "cell_type": "markdown",
   "metadata": {},
   "source": [
    "# Logistic Regression"
   ]
  },
  {
   "cell_type": "code",
   "execution_count": 3,
   "metadata": {},
   "outputs": [
    {
     "name": "stdout",
     "output_type": "stream",
     "text": [
      "probability of 0.8\n",
      "odds of 4.0\n",
      "probability of 0.8\n"
     ]
    }
   ],
   "source": [
    "prob = 0.8\n",
    "print('probability of {0:.1f}'.format(prob))\n",
    "\n",
    "odds = prob / (1 - prob)\n",
    "print('odds of {0:.1f}'.format(odds))\n",
    "\n",
    "prob = odds / (odds + 1)\n",
    "print('probability of {0:.1f}'.format(prob))"
   ]
  },
  {
   "cell_type": "markdown",
   "metadata": {},
   "source": []
  },
  {
   "cell_type": "code",
   "execution_count": 1,
   "metadata": {},
   "outputs": [
    {
     "name": "stdout",
     "output_type": "stream",
     "text": [
      "probability 0.8\n",
      "odds 4.0\n",
      "log-odds 1.4\n",
      "probability 0.8\n"
     ]
    }
   ],
   "source": [
    "from math import log \n",
    "from math import exp\n",
    "\n",
    "prob = 0.8\n",
    "print('probability {0:.1f}'.format(prob))\n",
    "\n",
    "odds = prob / (1 - prob)\n",
    "print('odds {0:.1f}'.format(odds))\n",
    "\n",
    "logodds = log(odds)\n",
    "print('log-odds {0:.1f}'.format(logodds))\n",
    "\n",
    "prob = 1 / (1 + exp(-logodds))\n",
    "print('probability {0:.1f}'.format(prob))"
   ]
  },
  {
   "cell_type": "code",
   "execution_count": null,
   "metadata": {},
   "outputs": [],
   "source": []
  }
 ],
 "metadata": {
  "kernelspec": {
   "display_name": "Python 3",
   "language": "python",
   "name": "python3"
  },
  "language_info": {
   "codemirror_mode": {
    "name": "ipython",
    "version": 3
   },
   "file_extension": ".py",
   "mimetype": "text/x-python",
   "name": "python",
   "nbconvert_exporter": "python",
   "pygments_lexer": "ipython3",
   "version": "3.10.6"
  },
  "orig_nbformat": 4
 },
 "nbformat": 4,
 "nbformat_minor": 2
}
