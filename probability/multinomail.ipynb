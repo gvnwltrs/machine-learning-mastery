{
 "cells": [
  {
   "cell_type": "markdown",
   "metadata": {},
   "source": [
    "# Multinomial"
   ]
  },
  {
   "cell_type": "code",
   "execution_count": 1,
   "metadata": {},
   "outputs": [
    {
     "name": "stdout",
     "output_type": "stream",
     "text": [
      "Case 1: 39\n",
      "Case 2: 35\n",
      "Case 3: 26\n"
     ]
    }
   ],
   "source": [
    "from numpy.random import multinomial\n",
    "\n",
    "p = [1.0/3.0, 1.0/3.0, 1.0/3.0]\n",
    "k = 100 \n",
    "\n",
    "cases = multinomial(k, p)\n",
    "\n",
    "for i in range(len(cases)): \n",
    "    print('Case {0}: {1}'.format(i+1, cases[i]))"
   ]
  },
  {
   "cell_type": "code",
   "execution_count": null,
   "metadata": {},
   "outputs": [],
   "source": []
  }
 ],
 "metadata": {
  "kernelspec": {
   "display_name": "Python 3",
   "language": "python",
   "name": "python3"
  },
  "language_info": {
   "codemirror_mode": {
    "name": "ipython",
    "version": 3
   },
   "file_extension": ".py",
   "mimetype": "text/x-python",
   "name": "python",
   "nbconvert_exporter": "python",
   "pygments_lexer": "ipython3",
   "version": "3.10.6"
  },
  "orig_nbformat": 4
 },
 "nbformat": 4,
 "nbformat_minor": 2
}
